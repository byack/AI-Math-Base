{
 "cells": [
  {
   "cell_type": "markdown",
   "id": "195126fc",
   "metadata": {},
   "source": [
    "## 线性代数实验\n",
    "\n",
    "### 代码实现介绍\n",
    "\n",
    "numpy 是一款基于 Python 的数值处理模块，在处理矩阵数据方面有很强大的功能与优势。因为线性代数的主要内容就是对矩阵的处理，所以本章节主要的内容都是基于 numpy 进行展开。另外也会涉及到方程组求解，所以也会用到数学科学库 scipy。\n",
    "\n",
    "### 实现\n",
    "\n",
    "#### 1. 导入相应的库"
   ]
  },
  {
   "cell_type": "code",
   "execution_count": 1,
   "id": "8b2b1ef6",
   "metadata": {},
   "outputs": [],
   "source": [
    "import numpy as np\n",
    "import scipy as sp"
   ]
  },
  {
   "cell_type": "markdown",
   "id": "503bd949",
   "metadata": {},
   "source": [
    "#### 2. reshape 运算\n",
    "\n",
    "reshape 用来改变一个张量的维度数和每个维度的大小"
   ]
  },
  {
   "cell_type": "code",
   "execution_count": 2,
   "id": "68e209c1",
   "metadata": {},
   "outputs": [
    {
     "data": {
      "text/plain": [
       "array([ 0,  1,  2,  3,  4,  5,  6,  7,  8,  9, 10, 11])"
      ]
     },
     "execution_count": 2,
     "metadata": {},
     "output_type": "execute_result"
    }
   ],
   "source": [
    "x = np.arange(12)\n",
    "x"
   ]
  },
  {
   "cell_type": "code",
   "execution_count": 3,
   "id": "d16df7bc",
   "metadata": {},
   "outputs": [
    {
     "data": {
      "text/plain": [
       "(12,)"
      ]
     },
     "execution_count": 3,
     "metadata": {},
     "output_type": "execute_result"
    }
   ],
   "source": [
    "x.shape"
   ]
  },
  {
   "cell_type": "code",
   "execution_count": 4,
   "id": "4e6a10cf",
   "metadata": {},
   "outputs": [
    {
     "data": {
      "text/plain": [
       "array([[ 0,  1,  2,  3,  4,  5,  6,  7,  8,  9, 10, 11]])"
      ]
     },
     "execution_count": 4,
     "metadata": {},
     "output_type": "execute_result"
    }
   ],
   "source": [
    "x = x.reshape(1, 12)\n",
    "x"
   ]
  },
  {
   "cell_type": "code",
   "execution_count": 5,
   "id": "57f4c5da",
   "metadata": {},
   "outputs": [
    {
     "data": {
      "text/plain": [
       "(1, 12)"
      ]
     },
     "execution_count": 5,
     "metadata": {},
     "output_type": "execute_result"
    }
   ],
   "source": [
    "x.shape"
   ]
  },
  {
   "cell_type": "code",
   "execution_count": 6,
   "id": "e7092859",
   "metadata": {},
   "outputs": [
    {
     "data": {
      "text/plain": [
       "array([[ 0,  1,  2,  3],\n",
       "       [ 4,  5,  6,  7],\n",
       "       [ 8,  9, 10, 11]])"
      ]
     },
     "execution_count": 6,
     "metadata": {},
     "output_type": "execute_result"
    }
   ],
   "source": [
    "x = x.reshape(3, 4)\n",
    "x"
   ]
  },
  {
   "cell_type": "code",
   "execution_count": 7,
   "id": "74a902cc",
   "metadata": {},
   "outputs": [
    {
     "data": {
      "text/plain": [
       "(3, 4)"
      ]
     },
     "execution_count": 7,
     "metadata": {},
     "output_type": "execute_result"
    }
   ],
   "source": [
    "x.shape"
   ]
  },
  {
   "cell_type": "markdown",
   "id": "98cf548e",
   "metadata": {},
   "source": [
    "#### 3. 转置实现\n",
    "\n",
    "向量和矩阵的转置是交换行列顺序，而三维及以上张量的转置就需要指定转换的维度。"
   ]
  },
  {
   "cell_type": "code",
   "execution_count": 8,
   "id": "bb2c097b",
   "metadata": {},
   "outputs": [
    {
     "data": {
      "text/plain": [
       "array([[ 0,  1,  2,  3],\n",
       "       [ 4,  5,  6,  7],\n",
       "       [ 8,  9, 10, 11]])"
      ]
     },
     "execution_count": 8,
     "metadata": {},
     "output_type": "execute_result"
    }
   ],
   "source": [
    "A = np.arange(12).reshape(3, 4)\n",
    "A"
   ]
  },
  {
   "cell_type": "code",
   "execution_count": 9,
   "id": "ac7c0217",
   "metadata": {},
   "outputs": [
    {
     "data": {
      "text/plain": [
       "array([[ 0,  4,  8],\n",
       "       [ 1,  5,  9],\n",
       "       [ 2,  6, 10],\n",
       "       [ 3,  7, 11]])"
      ]
     },
     "execution_count": 9,
     "metadata": {},
     "output_type": "execute_result"
    }
   ],
   "source": [
    "A.T"
   ]
  },
  {
   "cell_type": "markdown",
   "id": "9756e172",
   "metadata": {},
   "source": [
    "#### 4. 矩阵乘法实现\n",
    "\n",
    "**两个矩阵能够相乘的条件为第一个矩阵的列数等于第二个矩阵的行数。**"
   ]
  },
  {
   "cell_type": "code",
   "execution_count": 10,
   "id": "b54f07d1",
   "metadata": {},
   "outputs": [],
   "source": [
    "A = np.arange(6).reshape(3, 2)\n",
    "B = np.arange(6).reshape(2, 3)"
   ]
  },
  {
   "cell_type": "code",
   "execution_count": 11,
   "id": "0a1af3d2",
   "metadata": {},
   "outputs": [
    {
     "data": {
      "text/plain": [
       "array([[0, 1],\n",
       "       [2, 3],\n",
       "       [4, 5]])"
      ]
     },
     "execution_count": 11,
     "metadata": {},
     "output_type": "execute_result"
    }
   ],
   "source": [
    "A"
   ]
  },
  {
   "cell_type": "code",
   "execution_count": 12,
   "id": "f870e638",
   "metadata": {},
   "outputs": [
    {
     "data": {
      "text/plain": [
       "array([[0, 1, 2],\n",
       "       [3, 4, 5]])"
      ]
     },
     "execution_count": 12,
     "metadata": {},
     "output_type": "execute_result"
    }
   ],
   "source": [
    "B"
   ]
  },
  {
   "cell_type": "code",
   "execution_count": 13,
   "id": "bcc3697c",
   "metadata": {},
   "outputs": [
    {
     "data": {
      "text/plain": [
       "array([[ 3,  4,  5],\n",
       "       [ 9, 14, 19],\n",
       "       [15, 24, 33]])"
      ]
     },
     "execution_count": 13,
     "metadata": {},
     "output_type": "execute_result"
    }
   ],
   "source": [
    "np.matmul(A, B)"
   ]
  },
  {
   "cell_type": "markdown",
   "id": "3ca82eb7",
   "metadata": {},
   "source": [
    "#### 5. 矩阵对应运算\n",
    "\n",
    "元素对应运算：针对形状相同矩阵的运算统称，包括元素对应相乘、相加等，即对两个矩阵**相同位置的元素进行加减乘除等运算**。"
   ]
  },
  {
   "cell_type": "code",
   "execution_count": 14,
   "id": "7969b92c",
   "metadata": {},
   "outputs": [
    {
     "data": {
      "text/plain": [
       "array([[0, 1],\n",
       "       [2, 3],\n",
       "       [4, 5]])"
      ]
     },
     "execution_count": 14,
     "metadata": {},
     "output_type": "execute_result"
    }
   ],
   "source": [
    "A = np.arange(6).reshape(3, 2)\n",
    "A"
   ]
  },
  {
   "cell_type": "code",
   "execution_count": 15,
   "id": "8987eeeb",
   "metadata": {},
   "outputs": [
    {
     "data": {
      "text/plain": [
       "array([[ 0,  1],\n",
       "       [ 4,  9],\n",
       "       [16, 25]])"
      ]
     },
     "execution_count": 15,
     "metadata": {},
     "output_type": "execute_result"
    }
   ],
   "source": [
    "A * A"
   ]
  },
  {
   "cell_type": "code",
   "execution_count": 16,
   "id": "be1ded8f",
   "metadata": {},
   "outputs": [
    {
     "data": {
      "text/plain": [
       "array([[ 0,  2],\n",
       "       [ 4,  6],\n",
       "       [ 8, 10]])"
      ]
     },
     "execution_count": 16,
     "metadata": {},
     "output_type": "execute_result"
    }
   ],
   "source": [
    "A + A"
   ]
  },
  {
   "cell_type": "markdown",
   "id": "14257dbb",
   "metadata": {},
   "source": [
    "#### 6. 逆矩阵的实现\n",
    "\n",
    "只有方阵才有逆矩阵，逆矩阵实现。"
   ]
  },
  {
   "cell_type": "code",
   "execution_count": 17,
   "id": "6d1bd980",
   "metadata": {},
   "outputs": [
    {
     "data": {
      "text/plain": [
       "array([[0, 1],\n",
       "       [2, 3]])"
      ]
     },
     "execution_count": 17,
     "metadata": {},
     "output_type": "execute_result"
    }
   ],
   "source": [
    "A = np.arange(4).reshape(2, 2)\n",
    "A"
   ]
  },
  {
   "cell_type": "code",
   "execution_count": 18,
   "id": "54a07353",
   "metadata": {},
   "outputs": [
    {
     "data": {
      "text/plain": [
       "array([[-1.5,  0.5],\n",
       "       [ 1. ,  0. ]])"
      ]
     },
     "execution_count": 18,
     "metadata": {},
     "output_type": "execute_result"
    }
   ],
   "source": [
    "np.linalg.inv(A)"
   ]
  },
  {
   "cell_type": "markdown",
   "id": "e5fdd7d3",
   "metadata": {},
   "source": [
    "#### 7. 特征值与特征向量\n",
    "\n",
    "求矩阵的特征值与特征向量并实现可视化。\n",
    "\n",
    "##### 7.1 导入相应的库"
   ]
  },
  {
   "cell_type": "code",
   "execution_count": 20,
   "id": "4e35e957",
   "metadata": {},
   "outputs": [],
   "source": [
    "from scipy.linalg import eig\n",
    "import matplotlib.pyplot as plt"
   ]
  },
  {
   "cell_type": "markdown",
   "id": "776a5692",
   "metadata": {},
   "source": [
    "##### 7.2 求特征值与特征向量"
   ]
  },
  {
   "cell_type": "code",
   "execution_count": 21,
   "id": "fcba3e42",
   "metadata": {},
   "outputs": [
    {
     "data": {
      "text/plain": [
       "array([ 3.+0.j, -1.+0.j])"
      ]
     },
     "execution_count": 21,
     "metadata": {},
     "output_type": "execute_result"
    }
   ],
   "source": [
    "A = [[1, 2], [2, 1]]  # 生成一个 2*2 矩阵\n",
    "evals, evecs = eig(A)  # 求 A 的特征值（evals）与特征向量（evecs）\n",
    "evals"
   ]
  },
  {
   "cell_type": "code",
   "execution_count": 24,
   "id": "39d68625",
   "metadata": {},
   "outputs": [
    {
     "data": {
      "text/plain": [
       "(array([0.70710678, 0.70710678]), array([-0.70710678,  0.70710678]))"
      ]
     },
     "execution_count": 24,
     "metadata": {},
     "output_type": "execute_result"
    }
   ],
   "source": [
    "evecs = evecs[:, 0], evecs[:, 1]\n",
    "evecs"
   ]
  },
  {
   "cell_type": "markdown",
   "id": "5235866e",
   "metadata": {},
   "source": [
    "##### 7.3 绘图"
   ]
  },
  {
   "cell_type": "code",
   "execution_count": 29,
   "id": "c3f4efa1",
   "metadata": {},
   "outputs": [
    {
     "data": {
      "image/png": "[encoded data removed]",
      "text/plain": [
       "<Figure size 432x288 with 1 Axes>"
      ]
     },
     "metadata": {
      "needs_background": "light"
     },
     "output_type": "display_data"
    }
   ],
   "source": [
    "fig, ax = plt.subplots()  # fig 代表整个图像，ax 代表坐标轴和画的图\n",
    "# 让坐标轴经过原点\n",
    "for spine in ['left', 'bottom']:  # 让在左下角坐标轴经过原点\n",
    "    ax.spines[spine].set_position('zero')\n",
    "ax.grid(alpha=0.4)  # 画出网格\n",
    "# 设置坐标轴范围\n",
    "xmin, xmax = -3, 3\n",
    "ymin, ymax = -3, 3\n",
    "ax.set(xlim=(xmin, xmax), ylim=(ymin, ymax))\n",
    "# 画出特征向量\n",
    "for v in evecs:\n",
    "    ax.annotate(\n",
    "        \"\", xy=v, xytext=(0, 0),\n",
    "        arrowprops=dict(\n",
    "            facecolor='blue',\n",
    "            shrink=0,\n",
    "            alpha=0.6,\n",
    "            width=0.5\n",
    "        )\n",
    "    )\n",
    "# 画出特征空间\n",
    "x = np.linspace(xmin, xmax, 3)  # 在指定的范围内返回间隔均匀的数字\n",
    "for v in evecs:\n",
    "    a = v[1] / v[0]  # 沿特征向量方向上的单位向量\n",
    "    ax.plot(x, a * x, 'r-', lw=0.4)  # lw 表示图线的粗细\n",
    "plt.show()"
   ]
  },
  {
   "cell_type": "markdown",
   "id": "77bf513a",
   "metadata": {},
   "source": [
    "#### 8. 求行列式\n",
    "\n",
    "求一个矩阵的行列式。"
   ]
  },
  {
   "cell_type": "code",
   "execution_count": 30,
   "id": "6ec7ae79",
   "metadata": {},
   "outputs": [
    {
     "data": {
      "text/plain": [
       "[[1, 2], [2, 1]]"
      ]
     },
     "execution_count": 30,
     "metadata": {},
     "output_type": "execute_result"
    }
   ],
   "source": [
    "A"
   ]
  },
  {
   "cell_type": "code",
   "execution_count": 32,
   "id": "042f2ba3",
   "metadata": {},
   "outputs": [
    {
     "data": {
      "text/plain": [
       "-2.9999999999999996"
      ]
     },
     "execution_count": 32,
     "metadata": {},
     "output_type": "execute_result"
    }
   ],
   "source": [
    "np.linalg.det(A)"
   ]
  },
  {
   "cell_type": "markdown",
   "id": "ccdb7891",
   "metadata": {},
   "source": [
    "#### 9. 奇异值分解实现\n",
    "\n",
    "例子：\n",
    "    假如我们是一个新闻资讯提供方，每天会有大量不同领域的文章需要推送给用户，但是这些文章质量参差不齐，为了更好的用户体验，我们需要对海量的文章进行归类然后选取质量比较好的推送给用户。那么问题来了，对于海量文章，用什么方式可以自动将文章归类呢？这里介绍一种比较简单的思想如下：通常情况下文章的标题是由少量核心概念词构成，这些核心词代表了文章的主旨，因此我们可以间接通过文章标题的相似度来判断两篇文章是否是一类。文章标题的相似度的判断是以词之间的相似度作为基础的，那么如何判断标题中词和词之间的相似度呢？ 下面我们使用奇异值分解来解决这个问题。假设有 8 个标题，每个标题包含的关键词如下：\n",
    "\n",
    "title_1 = [\"dad\",\"dad\",\"stock\"]\n",
    "\n",
    "title_2 = [\"books\",\"books\",\"value\",\"estate\"]\n",
    "\n",
    "title_3 = [\"books\",\"decomposition\"]\n",
    "\n",
    "title_4 = [\"stock\"]\n",
    "\n",
    "title_5 = [\"dad\"]\n",
    "\n",
    "title_6 = [\"value\",\"singular\",\"decomposition\"]\n",
    "\n",
    "title_7 = [\"dad\",\"singular\"]\n",
    "\n",
    "title_8 = [\"singular\",\"estate\",\"decomposition\"]\n",
    "\n",
    "##### 9.1 输入关键字"
   ]
  },
  {
   "cell_type": "code",
   "execution_count": 33,
   "id": "e523e815",
   "metadata": {},
   "outputs": [],
   "source": [
    "words = [\"books\",\"dad\",\"stock\",\"value\",\"singular\",\"estate\",\"decomposition\"]"
   ]
  },
  {
   "cell_type": "code",
   "execution_count": 34,
   "id": "58eb486b",
   "metadata": {},
   "outputs": [],
   "source": [
    "# 已知 8 个标题， 7 个关键字。记录每个标题中每个关键字出现的次数，得矩阵 X\n",
    "X=np.array([[0,2,1,0,0,0,0],[2,0,0,1,0,1,0],[1,0,0,0,0,0,1],[0,0,1,0,0,0,0],[0,1,0,0,0,0,0],[0,0,0,1,1,0,1],[0,1,0,0,1,0,0],[0,0,0,0,1,1,1]])"
   ]
  },
  {
   "cell_type": "markdown",
   "id": "60a5ad65",
   "metadata": {},
   "source": [
    "##### 9.2 进行奇异值分解"
   ]
  },
  {
   "cell_type": "code",
   "execution_count": 35,
   "id": "676223bc",
   "metadata": {},
   "outputs": [],
   "source": [
    "U, s, Vh = np.linalg.svd(X)"
   ]
  },
  {
   "cell_type": "code",
   "execution_count": 36,
   "id": "d9bd61b1",
   "metadata": {},
   "outputs": [
    {
     "data": {
      "text/plain": [
       "array([[-1.87135757e-01, -7.93624528e-01,  2.45011855e-01,\n",
       "        -2.05404352e-01, -3.19189120e-16, -5.57732834e-15,\n",
       "        -2.57394431e-01, -4.08248290e-01],\n",
       "       [-6.92896814e-01,  2.88368077e-01,  5.67788037e-01,\n",
       "         2.22142537e-01,  2.54000254e-01,  5.86234773e-15,\n",
       "        -2.21623012e-02, -5.55111512e-17],\n",
       "       [-3.53233681e-01,  1.22606651e-01,  3.49203461e-02,\n",
       "        -4.51735990e-01, -7.62000762e-01, -1.17246955e-14,\n",
       "         2.72513448e-01,  8.32667268e-17],\n",
       "       [-2.61369658e-02, -1.33189110e-01,  7.51079037e-02,\n",
       "        -6.44727454e-01,  5.08000508e-01, -1.74851395e-14,\n",
       "         3.68146235e-01,  4.08248290e-01],\n",
       "       [-8.04993957e-02, -3.30217709e-01,  8.49519758e-02,\n",
       "         2.19661551e-01, -2.54000254e-01,  6.03562003e-15,\n",
       "        -3.12770333e-01,  8.16496581e-01],\n",
       "       [-3.95029694e-01,  1.56123876e-02, -5.28290830e-01,\n",
       "        -6.82340484e-02,  1.27000127e-01, -7.07106781e-01,\n",
       "        -2.09360158e-01, -8.32667268e-17],\n",
       "       [-2.02089013e-01, -3.80395849e-01, -2.12899198e-01,\n",
       "         4.80790894e-01,  2.22044605e-16,  1.29304240e-14,\n",
       "         7.33466480e-01,  1.11022302e-16],\n",
       "       [-3.95029694e-01,  1.56123876e-02, -5.28290830e-01,\n",
       "        -6.82340484e-02,  1.27000127e-01,  7.07106781e-01,\n",
       "        -2.09360158e-01, -2.77555756e-17]])"
      ]
     },
     "execution_count": 36,
     "metadata": {},
     "output_type": "execute_result"
    }
   ],
   "source": [
    "U"
   ]
  },
  {
   "cell_type": "code",
   "execution_count": 37,
   "id": "d8e72612",
   "metadata": {},
   "outputs": [
    {
     "data": {
      "text/plain": [
       "(8, 8)"
      ]
     },
     "execution_count": 37,
     "metadata": {},
     "output_type": "execute_result"
    }
   ],
   "source": [
    "U.shape"
   ]
  },
  {
   "cell_type": "code",
   "execution_count": 38,
   "id": "7a38157a",
   "metadata": {},
   "outputs": [
    {
     "data": {
      "text/plain": [
       "array([2.85653844, 2.63792139, 2.06449303, 1.14829917, 1.        ,\n",
       "       1.        , 0.54848559])"
      ]
     },
     "execution_count": 38,
     "metadata": {},
     "output_type": "execute_result"
    }
   ],
   "source": [
    "s"
   ]
  },
  {
   "cell_type": "code",
   "execution_count": 39,
   "id": "4a7982c5",
   "metadata": {},
   "outputs": [
    {
     "data": {
      "text/plain": [
       "(7,)"
      ]
     },
     "execution_count": 39,
     "metadata": {},
     "output_type": "execute_result"
    }
   ],
   "source": [
    "s.shape"
   ]
  },
  {
   "cell_type": "code",
   "execution_count": 40,
   "id": "e478ab26",
   "metadata": {},
   "outputs": [
    {
     "data": {
      "text/plain": [
       "array([[-6.08788345e-01, -2.29949618e-01, -7.46612474e-02,\n",
       "        -3.80854846e-01, -3.47325416e-01, -3.80854846e-01,\n",
       "        -4.00237243e-01],\n",
       "       [ 2.65111314e-01, -8.71088358e-01, -3.51342402e-01,\n",
       "         1.15234846e-01, -1.32365989e-01,  1.15234846e-01,\n",
       "         5.83153945e-02],\n",
       "       [ 5.66965547e-01,  1.75382762e-01,  1.55059743e-01,\n",
       "         1.91316736e-02, -6.14911671e-01,  1.91316736e-02,\n",
       "        -4.94872736e-01],\n",
       "       [-6.48865369e-03,  2.52237176e-01, -7.40339999e-01,\n",
       "         1.34031699e-01,  2.99854608e-01,  1.34031699e-01,\n",
       "        -5.12239408e-01],\n",
       "       [-2.54000254e-01, -2.54000254e-01,  5.08000508e-01,\n",
       "         3.81000381e-01,  2.54000254e-01,  3.81000381e-01,\n",
       "        -5.08000508e-01],\n",
       "       [ 0.00000000e+00,  7.90632607e-15, -2.28822292e-14,\n",
       "        -7.07106781e-01,  8.96165835e-15,  7.07106781e-01,\n",
       "        -1.53872902e-14],\n",
       "       [ 4.16034348e-01, -1.71550021e-01,  2.01922906e-01,\n",
       "        -4.22112199e-01,  5.73845817e-01, -4.22112199e-01,\n",
       "        -2.66564648e-01]])"
      ]
     },
     "execution_count": 40,
     "metadata": {},
     "output_type": "execute_result"
    }
   ],
   "source": [
    "Vh"
   ]
  },
  {
   "cell_type": "code",
   "execution_count": 41,
   "id": "54bad243",
   "metadata": {},
   "outputs": [
    {
     "data": {
      "text/plain": [
       "(7, 7)"
      ]
     },
     "execution_count": 41,
     "metadata": {},
     "output_type": "execute_result"
    }
   ],
   "source": [
    "Vh.shape"
   ]
  },
  {
   "cell_type": "markdown",
   "id": "7285954b",
   "metadata": {},
   "source": [
    "##### 9.3 绘图"
   ]
  },
  {
   "cell_type": "code",
   "execution_count": 45,
   "id": "06e054bd",
   "metadata": {},
   "outputs": [
    {
     "data": {
      "image/png": "[encoded data removed]",
      "text/plain": [
       "<Figure size 432x288 with 1 Axes>"
      ]
     },
     "metadata": {
      "needs_background": "light"
     },
     "output_type": "display_data"
    }
   ],
   "source": [
    "plt.axis([-0.8, 0.2, -0.8, 0.8])\n",
    "for i in range(len(words)):\n",
    "    plt.text(U[i, 0], U[i, 1], words[i])  # 原来每个关键字由 1*8 的向量表示，现在降维成 1*2 的向量便于可视化\n",
    "plt.show()"
   ]
  },
  {
   "cell_type": "markdown",
   "id": "ecd9db4d",
   "metadata": {},
   "source": [
    "通过降维后，我们可以将关键词聚类，如stock、estate可以化为一组，value、singular、decompostion可以化为一组。\n",
    "\n",
    "#### 10. 奇异值分解——图像压缩\n",
    "\n",
    "##### 10.1 导入库"
   ]
  },
  {
   "cell_type": "code",
   "execution_count": 46,
   "id": "8821df45",
   "metadata": {},
   "outputs": [],
   "source": [
    "from pylab import *"
   ]
  },
  {
   "cell_type": "markdown",
   "id": "19164946",
   "metadata": {},
   "source": [
    "##### 10.2 读取图像并保存灰度图现实"
   ]
  },
  {
   "cell_type": "code",
   "execution_count": 48,
   "id": "a7567494",
   "metadata": {},
   "outputs": [
    {
     "data": {
      "text/plain": [
       "<matplotlib.image.AxesImage at 0x1d30fd50d90>"
      ]
     },
     "execution_count": 48,
     "metadata": {},
     "output_type": "execute_result"
    },
    {
     "data": {
      "image/png": "[encoded data removed]",
      "text/plain": [
       "<Figure size 432x288 with 1 Axes>"
      ]
     },
     "metadata": {
      "needs_background": "light"
     },
     "output_type": "display_data"
    }
   ],
   "source": [
    "img = imread(\"./img/lena.jpg\")[:, :, 0]\n",
    "plt.savefig(\"./img/lena_gray\")\n",
    "plt.gray()\n",
    "plt.figure(1)\n",
    "plt.imshow(img)"
   ]
  },
  {
   "cell_type": "markdown",
   "id": "fb80e2f2",
   "metadata": {},
   "source": [
    "##### 10.3 读取图像长宽"
   ]
  },
  {
   "cell_type": "code",
   "execution_count": 49,
   "id": "a259b6a4",
   "metadata": {},
   "outputs": [
    {
     "data": {
      "text/plain": [
       "(311, 311)"
      ]
     },
     "execution_count": 49,
     "metadata": {},
     "output_type": "execute_result"
    }
   ],
   "source": [
    "m, n = img.shape\n",
    "np.shape(img)"
   ]
  },
  {
   "cell_type": "markdown",
   "id": "cb84f914",
   "metadata": {},
   "source": [
    "#### 对图像矩阵进行奇异值分解"
   ]
  },
  {
   "cell_type": "code",
   "execution_count": 50,
   "id": "4a14d49a",
   "metadata": {},
   "outputs": [
    {
     "data": {
      "text/plain": [
       "(311,)"
      ]
     },
     "execution_count": 50,
     "metadata": {},
     "output_type": "execute_result"
    }
   ],
   "source": [
    "U, Sigma, V = np.linalg.svd(img)\n",
    "Sigma.shape"
   ]
  },
  {
   "cell_type": "markdown",
   "id": "6cd0d32d",
   "metadata": {},
   "source": [
    "##### 10.4 将奇异值整理成一个对角矩阵"
   ]
  },
  {
   "cell_type": "code",
   "execution_count": 51,
   "id": "6343c133",
   "metadata": {},
   "outputs": [],
   "source": [
    "Sigma = resize(Sigma, [m, 1])*eye(m, n)"
   ]
  },
  {
   "cell_type": "markdown",
   "id": "8a834d5c",
   "metadata": {},
   "source": [
    "##### 10.5 取前k个奇异值构造新图像"
   ]
  },
  {
   "cell_type": "code",
   "execution_count": 52,
   "id": "23b3fd77",
   "metadata": {},
   "outputs": [
    {
     "data": {
      "image/png": "[encoded data removed]",
      "text/plain": [
       "<Figure size 432x288 with 1 Axes>"
      ]
     },
     "metadata": {
      "needs_background": "light"
     },
     "output_type": "display_data"
    }
   ],
   "source": [
    "k = 200\n",
    "img1 = np.dot(U[:, 0:k], np.dot(Sigma[0:k, 0:k], V[0:k, :]))\n",
    "plt.figure(2)\n",
    "plt.imshow(img1)\n",
    "plt.show()  #  现实压缩后的图片"
   ]
  },
  {
   "cell_type": "markdown",
   "id": "35774509",
   "metadata": {},
   "source": [
    "#### 11. 线性方程组求解\n",
    "\n",
    "求解线性方程组比较简单，只需要用到一个函数(scipy.linalg.solve)就可以了。\n",
    "\n",
    "    有三种价格未知的水果，苹果、香蕉、葡萄；已知，李雷购买 10 斤苹果、 2 斤香蕉、 5 斤葡萄花费了 10 元，韩梅梅购买 4 斤苹果、 4 斤香蕉、 2 斤葡萄花费了 8 元，汤姆购买 2 斤苹果、 2 斤香蕉、 2 斤葡萄花费了 5 元；问，苹果、香蕉、葡萄分别多少钱一斤？\n",
    "    根据已知条件，可以构建如下多元方程组，其中 x_1、 x_2、 x_3 分别是苹果、香蕉、葡萄的价格，目的是求解 x_1、 x_2、 x_3 的值：\n",
    "\n",
    "10x_1 + 2x_2 + 5x_3 = 10\n",
    "\n",
    "4x_1 + 4x_2 + 2x_3 = 8\n",
    "\n",
    "2x_1 + 2x_2 + 2x_3 = 5\n",
    "\n",
    "##### 11.1 导入包"
   ]
  },
  {
   "cell_type": "code",
   "execution_count": 53,
   "id": "337e8d33",
   "metadata": {},
   "outputs": [],
   "source": [
    "from scipy.linalg import solve"
   ]
  },
  {
   "cell_type": "markdown",
   "id": "4a1381cc",
   "metadata": {},
   "source": [
    "##### 11.2 求解"
   ]
  },
  {
   "cell_type": "code",
   "execution_count": 54,
   "id": "1442d8fa",
   "metadata": {},
   "outputs": [
    {
     "data": {
      "text/plain": [
       "array([0.25, 1.25, 1.  ])"
      ]
     },
     "execution_count": 54,
     "metadata": {},
     "output_type": "execute_result"
    }
   ],
   "source": [
    "a = np.array([[10, 2, 5], [4, 4, 2], [2, 2, 2]])\n",
    "b = np.array([10, 8, 5])\n",
    "x = solve(a, b)\n",
    "x"
   ]
  }
 ],
 "metadata": {
  "kernelspec": {
   "display_name": "Python 3 (ipykernel)",
   "language": "python",
   "name": "python3"
  },
  "language_info": {
   "codemirror_mode": {
    "name": "ipython",
    "version": 3
   },
   "file_extension": ".py",
   "mimetype": "text/x-python",
   "name": "python",
   "nbconvert_exporter": "python",
   "pygments_lexer": "ipython3",
   "version": "3.8.10"
  }
 },
 "nbformat": 4,
 "nbformat_minor": 5
}
