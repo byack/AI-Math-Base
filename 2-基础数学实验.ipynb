{
 "cells": [
  {
   "cell_type": "markdown",
   "id": "d35b742b",
   "metadata": {},
   "source": [
    "## 基础数学实验\n",
    "\n",
    "### 框架介绍\n",
    "\n",
    "math 库是 Python 的标准库，提供一些常用的数学函数； numpy 库是 Python 的一个数值计算拓展库，主要用于处理线性代数，随机数生成，傅里叶变换等问题； scipy 库主要用于统计，优化，插值，积分等问题的处理。\n",
    "\n",
    "### 实验\n",
    "\n",
    "#### 1. 导入相应库"
   ]
  },
  {
   "cell_type": "code",
   "execution_count": 1,
   "id": "b1f30cb6",
   "metadata": {},
   "outputs": [],
   "source": [
    "import math\n",
    "import numpy as np"
   ]
  },
  {
   "cell_type": "markdown",
   "id": "3693af44",
   "metadata": {},
   "source": [
    "#### 2. ceil 实现\n",
    "\n",
    "ceil(x) 取大于等于 x 的最小的整数值，如果 x 是一个整数，则返回自身。"
   ]
  },
  {
   "cell_type": "code",
   "execution_count": 2,
   "id": "5583e607",
   "metadata": {},
   "outputs": [
    {
     "data": {
      "text/plain": [
       "5"
      ]
     },
     "execution_count": 2,
     "metadata": {},
     "output_type": "execute_result"
    }
   ],
   "source": [
    "math.ceil(4.01)"
   ]
  },
  {
   "cell_type": "code",
   "execution_count": 3,
   "id": "3a6f0963",
   "metadata": {},
   "outputs": [
    {
     "data": {
      "text/plain": [
       "5"
      ]
     },
     "execution_count": 3,
     "metadata": {},
     "output_type": "execute_result"
    }
   ],
   "source": [
    "math.ceil(4.99)"
   ]
  },
  {
   "cell_type": "code",
   "execution_count": 4,
   "id": "adee5484",
   "metadata": {},
   "outputs": [
    {
     "data": {
      "text/plain": [
       "5"
      ]
     },
     "execution_count": 4,
     "metadata": {},
     "output_type": "execute_result"
    }
   ],
   "source": [
    "math.ceil(5)"
   ]
  },
  {
   "cell_type": "markdown",
   "id": "816139fd",
   "metadata": {},
   "source": [
    "#### 3. floor 实现\n",
    "\n",
    "floor(x) 取小于等于 x 的最大的整数值，如果 x 是一个整数，则返回自身。"
   ]
  },
  {
   "cell_type": "code",
   "execution_count": 5,
   "id": "2bcf9e0c",
   "metadata": {},
   "outputs": [
    {
     "data": {
      "text/plain": [
       "4"
      ]
     },
     "execution_count": 5,
     "metadata": {},
     "output_type": "execute_result"
    }
   ],
   "source": [
    "math.floor(4.99)"
   ]
  },
  {
   "cell_type": "code",
   "execution_count": 6,
   "id": "64c18b66",
   "metadata": {},
   "outputs": [
    {
     "data": {
      "text/plain": [
       "4"
      ]
     },
     "execution_count": 6,
     "metadata": {},
     "output_type": "execute_result"
    }
   ],
   "source": [
    "math.floor(4.09)"
   ]
  },
  {
   "cell_type": "code",
   "execution_count": 7,
   "id": "e342da1a",
   "metadata": {},
   "outputs": [
    {
     "data": {
      "text/plain": [
       "4"
      ]
     },
     "execution_count": 7,
     "metadata": {},
     "output_type": "execute_result"
    }
   ],
   "source": [
    "math.floor(4)"
   ]
  },
  {
   "cell_type": "markdown",
   "id": "66c573aa",
   "metadata": {},
   "source": [
    "#### 4. degrees 实现\n",
    "\n",
    "degrees(x) 把 x 从弧度转换成角度。"
   ]
  },
  {
   "cell_type": "code",
   "execution_count": 8,
   "id": "16c322d2",
   "metadata": {},
   "outputs": [
    {
     "data": {
      "text/plain": [
       "45.0"
      ]
     },
     "execution_count": 8,
     "metadata": {},
     "output_type": "execute_result"
    }
   ],
   "source": [
    "math.degrees(math.pi / 4)"
   ]
  },
  {
   "cell_type": "code",
   "execution_count": 9,
   "id": "01a28692",
   "metadata": {},
   "outputs": [
    {
     "data": {
      "text/plain": [
       "180.0"
      ]
     },
     "execution_count": 9,
     "metadata": {},
     "output_type": "execute_result"
    }
   ],
   "source": [
    "math.degrees(math.pi)"
   ]
  },
  {
   "cell_type": "markdown",
   "id": "dd2b5a53",
   "metadata": {},
   "source": [
    "#### 5. exp 实现\n",
    "\n",
    "exp(x) 返回 math.e，也就是 2.71828 的 x 次方。"
   ]
  },
  {
   "cell_type": "code",
   "execution_count": 10,
   "id": "f6b7787f",
   "metadata": {},
   "outputs": [
    {
     "data": {
      "text/plain": [
       "7.38905609893065"
      ]
     },
     "execution_count": 10,
     "metadata": {},
     "output_type": "execute_result"
    }
   ],
   "source": [
    "math.exp(2)"
   ]
  },
  {
   "cell_type": "markdown",
   "id": "882ab6e6",
   "metadata": {},
   "source": [
    "#### 6. fabs 实现\n",
    "\n",
    "fabs(x)返回 x 的绝对值。"
   ]
  },
  {
   "cell_type": "code",
   "execution_count": 11,
   "id": "7461dedd",
   "metadata": {},
   "outputs": [
    {
     "data": {
      "text/plain": [
       "4.2"
      ]
     },
     "execution_count": 11,
     "metadata": {},
     "output_type": "execute_result"
    }
   ],
   "source": [
    "math.fabs(-4.2)"
   ]
  },
  {
   "cell_type": "markdown",
   "id": "2c9368c1",
   "metadata": {},
   "source": [
    "#### 7. factorial 实现\n",
    "\n",
    "factorial(x)取 x 的阶乘的值。"
   ]
  },
  {
   "cell_type": "code",
   "execution_count": 12,
   "id": "fc838db0",
   "metadata": {},
   "outputs": [
    {
     "data": {
      "text/plain": [
       "6"
      ]
     },
     "execution_count": 12,
     "metadata": {},
     "output_type": "execute_result"
    }
   ],
   "source": [
    "math.factorial(3)"
   ]
  },
  {
   "cell_type": "markdown",
   "id": "4fb00aab",
   "metadata": {},
   "source": [
    "#### 8. fsum 实现\n",
    "\n",
    "fsum(iterable)对迭代器里的每个元素进行求和操作。"
   ]
  },
  {
   "cell_type": "code",
   "execution_count": 13,
   "id": "836ed677",
   "metadata": {},
   "outputs": [
    {
     "data": {
      "text/plain": [
       "10.0"
      ]
     },
     "execution_count": 13,
     "metadata": {},
     "output_type": "execute_result"
    }
   ],
   "source": [
    "math.fsum([1, 2, 3, 4])"
   ]
  },
  {
   "cell_type": "markdown",
   "id": "c32baa4e",
   "metadata": {},
   "source": [
    "#### 9. fmod 实现\n",
    "\n",
    "fmod(x, y)得到 x/y 的余数，其值是一个浮点数。"
   ]
  },
  {
   "cell_type": "code",
   "execution_count": 14,
   "id": "b519ac35",
   "metadata": {},
   "outputs": [
    {
     "data": {
      "text/plain": [
       "2.0"
      ]
     },
     "execution_count": 14,
     "metadata": {},
     "output_type": "execute_result"
    }
   ],
   "source": [
    "math.fmod(20, 3)"
   ]
  },
  {
   "cell_type": "markdown",
   "id": "81af34b7",
   "metadata": {},
   "source": [
    "#### 10. log 实现\n",
    "\n",
    "log([x, base])返回 x 的自然对数，默认以 e 为底数， base 参数给定时，按照给定的 base 返回 x 的对数，计算式为： log(x)/log(base)。"
   ]
  },
  {
   "cell_type": "code",
   "execution_count": 15,
   "id": "b99a3694",
   "metadata": {},
   "outputs": [
    {
     "data": {
      "text/plain": [
       "2.302585092994046"
      ]
     },
     "execution_count": 15,
     "metadata": {},
     "output_type": "execute_result"
    }
   ],
   "source": [
    "math.log(10)"
   ]
  },
  {
   "cell_type": "markdown",
   "id": "aed69a3d",
   "metadata": {},
   "source": [
    "#### 11. sqrt 实现\n",
    "\n",
    "sqrt(x)求 x 的平方根。"
   ]
  },
  {
   "cell_type": "code",
   "execution_count": 16,
   "id": "52b3ac85",
   "metadata": {},
   "outputs": [
    {
     "data": {
      "text/plain": [
       "10.0"
      ]
     },
     "execution_count": 16,
     "metadata": {},
     "output_type": "execute_result"
    }
   ],
   "source": [
    "math.sqrt(100)"
   ]
  },
  {
   "cell_type": "markdown",
   "id": "dac8d225",
   "metadata": {},
   "source": [
    "#### 12. pi 实现\n",
    "\n",
    "pi 数字常量，圆周率。"
   ]
  },
  {
   "cell_type": "code",
   "execution_count": 17,
   "id": "1140e7f4",
   "metadata": {},
   "outputs": [
    {
     "data": {
      "text/plain": [
       "3.141592653589793"
      ]
     },
     "execution_count": 17,
     "metadata": {},
     "output_type": "execute_result"
    }
   ],
   "source": [
    "math.pi"
   ]
  },
  {
   "cell_type": "markdown",
   "id": "fdbf0ca7",
   "metadata": {},
   "source": [
    "#### 13. pow 实现\n",
    "\n",
    "pow(x, y)返回 x 的 y 次方，即 x**y。"
   ]
  },
  {
   "cell_type": "code",
   "execution_count": 18,
   "id": "4534eb73",
   "metadata": {},
   "outputs": [
    {
     "data": {
      "text/plain": [
       "8.0"
      ]
     },
     "execution_count": 18,
     "metadata": {},
     "output_type": "execute_result"
    }
   ],
   "source": [
    "math.pow(2, 3)"
   ]
  }
 ],
 "metadata": {
  "kernelspec": {
   "display_name": "Python 3 (ipykernel)",
   "language": "python",
   "name": "python3"
  },
  "language_info": {
   "codemirror_mode": {
    "name": "ipython",
    "version": 3
   },
   "file_extension": ".py",
   "mimetype": "text/x-python",
   "name": "python",
   "nbconvert_exporter": "python",
   "pygments_lexer": "ipython3",
   "version": "3.8.10"
  }
 },
 "nbformat": 4,
 "nbformat_minor": 5
}
