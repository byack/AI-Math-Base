{
 "cells": [
  {
   "cell_type": "markdown",
   "id": "6b09f767",
   "metadata": {},
   "source": [
    "# 概率论实验\n",
    "\n",
    "## 1. 导入概率论所需要的库"
   ]
  },
  {
   "cell_type": "code",
   "execution_count": 1,
   "id": "89e0975b",
   "metadata": {},
   "outputs": [],
   "source": [
    "import numpy as np\n",
    "import scipy as sp"
   ]
  },
  {
   "cell_type": "markdown",
   "id": "58d7019b",
   "metadata": {},
   "source": [
    "## 2. 均值实现"
   ]
  },
  {
   "cell_type": "code",
   "execution_count": 2,
   "id": "aaeecf73",
   "metadata": {},
   "outputs": [
    {
     "data": {
      "text/plain": [
       "4.5"
      ]
     },
     "execution_count": 2,
     "metadata": {},
     "output_type": "execute_result"
    }
   ],
   "source": [
    "ll = [[1, 2, 3, 4, 5, 6], [3, 4, 5, 6, 7, 8]]\n",
    "np.mean(ll)  # 求全体元素的均值"
   ]
  },
  {
   "cell_type": "code",
   "execution_count": 3,
   "id": "4ea2fd83",
   "metadata": {},
   "outputs": [
    {
     "data": {
      "text/plain": [
       "array([2., 3., 4., 5., 6., 7.])"
      ]
     },
     "execution_count": 3,
     "metadata": {},
     "output_type": "execute_result"
    }
   ],
   "source": [
    "# 按列求均值，0代表列向量\n",
    "np.mean(ll, 0)"
   ]
  },
  {
   "cell_type": "code",
   "execution_count": 4,
   "id": "b33a4a30",
   "metadata": {},
   "outputs": [
    {
     "data": {
      "text/plain": [
       "array([3.5, 5.5])"
      ]
     },
     "execution_count": 4,
     "metadata": {},
     "output_type": "execute_result"
    }
   ],
   "source": [
    "# 按行求均值\n",
    "np.mean(ll, 1)"
   ]
  },
  {
   "cell_type": "markdown",
   "id": "1b270079",
   "metadata": {},
   "source": [
    "## 3. 方差实现"
   ]
  },
  {
   "cell_type": "code",
   "execution_count": 5,
   "id": "ef9c221b",
   "metadata": {},
   "outputs": [
    {
     "data": {
      "text/plain": [
       "3.6875"
      ]
     },
     "execution_count": 5,
     "metadata": {},
     "output_type": "execute_result"
    }
   ],
   "source": [
    "b = [1, 3, 5, 6]\n",
    "ll = [[1, 2, 3, 4, 5, 6], [3, 4, 5, 6, 7, 8]]\n",
    "\n",
    "# 求方差\n",
    "np.var(b)"
   ]
  },
  {
   "cell_type": "code",
   "execution_count": 6,
   "id": "9f6f253f",
   "metadata": {},
   "outputs": [
    {
     "data": {
      "text/plain": [
       "array([2.91666667, 2.91666667])"
      ]
     },
     "execution_count": 6,
     "metadata": {},
     "output_type": "execute_result"
    }
   ],
   "source": [
    "# 按行求方差\n",
    "np.var(ll, 1)"
   ]
  },
  {
   "cell_type": "markdown",
   "id": "20e5635b",
   "metadata": {},
   "source": [
    "## 4. 标准差实现"
   ]
  },
  {
   "cell_type": "code",
   "execution_count": 7,
   "id": "cd34da83",
   "metadata": {},
   "outputs": [
    {
     "data": {
      "text/plain": [
       "1.9790570145063195"
      ]
     },
     "execution_count": 7,
     "metadata": {},
     "output_type": "execute_result"
    }
   ],
   "source": [
    "ll = [[1, 2, 3, 4, 5, 6], [3, 4, 5, 6, 7, 8]]\n",
    "\n",
    "# 求标准差\n",
    "np.std(ll)"
   ]
  },
  {
   "cell_type": "markdown",
   "id": "babc2e19",
   "metadata": {},
   "source": [
    "## 5. 协方差实现"
   ]
  },
  {
   "cell_type": "code",
   "execution_count": 8,
   "id": "32461d13",
   "metadata": {},
   "outputs": [
    {
     "data": {
      "text/plain": [
       "array(4.91666667)"
      ]
     },
     "execution_count": 8,
     "metadata": {},
     "output_type": "execute_result"
    }
   ],
   "source": [
    "b = [1, 3, 5, 6]\n",
    "\n",
    "# 协方差\n",
    "np.cov(b)"
   ]
  },
  {
   "cell_type": "markdown",
   "id": "0a2385c1",
   "metadata": {},
   "source": [
    "## 6. 相关系数"
   ]
  },
  {
   "cell_type": "code",
   "execution_count": 9,
   "id": "cd3c177d",
   "metadata": {},
   "outputs": [
    {
     "data": {
      "text/plain": [
       "array([[1.        , 0.99998623],\n",
       "       [0.99998623, 1.        ]])"
      ]
     },
     "execution_count": 9,
     "metadata": {},
     "output_type": "execute_result"
    }
   ],
   "source": [
    "vc=[1, 2, 39, 0, 8]\n",
    "vb=[1, 2, 38, 0, 8]\n",
    "\n",
    "# 相关系数\n",
    "np.corrcoef(vc, vb)"
   ]
  },
  {
   "cell_type": "markdown",
   "id": "73a7cd6f",
   "metadata": {},
   "source": [
    "## 7. 二项分布实现\n",
    "\n",
    "服从二项分布的随机变量 X 表示在 n 次独立同分布的伯努利试验中成功的次数，其中每次试验的成功概率为 p\n",
    "\n",
    "### 7.1 导入所需要的库"
   ]
  },
  {
   "cell_type": "code",
   "execution_count": 10,
   "id": "d7266890",
   "metadata": {},
   "outputs": [],
   "source": [
    "from scipy.stats import binom, norm, beta, expon\n",
    "import matplotlib.pyplot as plt"
   ]
  },
  {
   "cell_type": "markdown",
   "id": "f82710b1",
   "metadata": {},
   "source": [
    "### 7.2 进行试验\n",
    "\n",
    "假设总共成功 10 次，每次成功的概率为 0.3，总计采样 10000 次"
   ]
  },
  {
   "cell_type": "code",
   "execution_count": 11,
   "id": "bbdefbc0",
   "metadata": {},
   "outputs": [
    {
     "name": "stdout",
     "output_type": "stream",
     "text": [
      "Data:  [2 4 2 ... 3 1 3]\n",
      "Mean:  2.9983\n",
      "Std:  1.444817327553902\n"
     ]
    }
   ],
   "source": [
    "binom_sim = binom.rvs(n = 10, p = 0.3, size = 10000)\n",
    "print('Data: ', binom_sim)\n",
    "print('Mean: ', np.mean(binom_sim))\n",
    "print('Std: ', np.std(binom_sim))"
   ]
  },
  {
   "cell_type": "markdown",
   "id": "eb0681a6",
   "metadata": {},
   "source": [
    "### 7.3 生成直方图\n",
    "\n",
    "x 指定每个 bin(箱子)分布的数据，对应 x 轴， binx 是总共有几条条状图， density=True表示是频率直方图，反之为频数直方图，也就是每个条状图的占比例比，默认为 1"
   ]
  },
  {
   "cell_type": "code",
   "execution_count": 15,
   "id": "e1b60891",
   "metadata": {},
   "outputs": [
    {
     "data": {
      "image/png": "[encoded data removed]",
      "text/plain": [
       "<Figure size 432x288 with 1 Axes>"
      ]
     },
     "metadata": {
      "needs_background": "light"
     },
     "output_type": "display_data"
    }
   ],
   "source": [
    "plt.hist(binom_sim, bins=10, density=True)\n",
    "plt.xlabel(('x'))\n",
    "plt.ylabel('density')\n",
    "plt.show()"
   ]
  },
  {
   "cell_type": "markdown",
   "id": "eb29a4ca",
   "metadata": {},
   "source": [
    "## 8. 泊松分布实现"
   ]
  },
  {
   "cell_type": "code",
   "execution_count": 16,
   "id": "5ebd1501",
   "metadata": {},
   "outputs": [
    {
     "data": {
      "image/png": "[encoded data removed]",
      "text/plain": [
       "<Figure size 432x288 with 1 Axes>"
      ]
     },
     "metadata": {
      "needs_background": "light"
     },
     "output_type": "display_data"
    }
   ],
   "source": [
    "# 产生 10000 个符合 lambda=2 的泊松分布的数\n",
    "X = np.random.poisson(lam=2, size=10000)\n",
    "\n",
    "# 开始绘制\n",
    "plt.hist(X, bins=15, density=True, range=[0, 15])\n",
    "plt.grid()\n",
    "plt.show()"
   ]
  },
  {
   "cell_type": "markdown",
   "id": "109fcd12",
   "metadata": {},
   "source": [
    "## 9. 正太分布\n",
    "\n",
    "正态分布是一种连续分布，其函数可以在实线上的任何地方取值。正态分布由两个参数描述：分布的平均值 $\\mu$ 和标准差 $\\sigma$ "
   ]
  },
  {
   "cell_type": "code",
   "execution_count": 17,
   "id": "b195f3f3",
   "metadata": {},
   "outputs": [
    {
     "data": {
      "image/png": "[encoded data removed]",
      "text/plain": [
       "<Figure size 432x288 with 1 Axes>"
      ]
     },
     "metadata": {
      "needs_background": "light"
     },
     "output_type": "display_data"
    }
   ],
   "source": [
    "mu = 0  # 平均值\n",
    "sigma = 1  # 标准差\n",
    "\n",
    "# 分布采样点\n",
    "x = np.arange(-5, 5, 0.1)\n",
    "\n",
    "# 生成符合 平均值为0 标准差为1 的正太分布\n",
    "y = norm.pdf(x, mu, sigma)\n",
    "\n",
    "# 绘制图像\n",
    "plt.plot(x, y)\n",
    "plt.xlabel(\"x\")\n",
    "plt.ylabel(\"density\")\n",
    "plt.show()"
   ]
  },
  {
   "attachments": {},
   "cell_type": "markdown",
   "id": "7e9e4435",
   "metadata": {},
   "source": [
    "## 10. 图像加噪声\n",
    "\n",
    "比如在深度学习中，我们需要训练一个图像分类的模型，但是能拿到的图像不是很多，那有没有一种方法可以根据现有的图像生成一些新的图像出来呢？增加的图像需要满足一些条件：图像本身的内容不能发生根本性的改变，比如图像能看出来是一只狗的话扩增出来的图像应该也是一只狗而不能成为只剩下一个毛茸茸的尾巴。最直接的方式就是在原始的图像上增加一些噪声，也就是使得图像变得粗糙同时保持图像原本要表述的信息。我们下面来实现一下这个过程，该过程需要使用到 Python图像处理的模块 OpenCV，我们使用著名的 Lena 图作为原始图像。\n",
    "\n",
    "## 10.1 导入需要的包"
   ]
  },
  {
   "cell_type": "code",
   "execution_count": 20,
   "id": "ec3573e2",
   "metadata": {},
   "outputs": [],
   "source": [
    "import cv2"
   ]
  },
  {
   "cell_type": "markdown",
   "id": "58d13763",
   "metadata": {},
   "source": [
    "### 10.2 原始图像"
   ]
  },
  {
   "cell_type": "code",
   "execution_count": 21,
   "id": "fa2dd256",
   "metadata": {},
   "outputs": [
    {
     "name": "stdout",
     "output_type": "stream",
     "text": [
      "(311, 311, 3)\n"
     ]
    }
   ],
   "source": [
    "srcImage = cv2.imread(r\"./img/lena.jpg\")\n",
    "print(srcImage.shape)\n",
    "\n",
    "cv2.namedWindow(\"Original image\")  # 图像显示窗口命名\n",
    "cv2.imshow(\"Original image\", srcImage)  # 显示图像\n",
    "k = cv2.waitKey(0)"
   ]
  },
  {
   "cell_type": "markdown",
   "id": "afc5ac92",
   "metadata": {},
   "source": [
    "### 10.3 灰度处理原始图片"
   ]
  },
  {
   "cell_type": "code",
   "execution_count": 22,
   "id": "a60bc361",
   "metadata": {},
   "outputs": [
    {
     "name": "stdout",
     "output_type": "stream",
     "text": [
      "(311, 311)\n"
     ]
    }
   ],
   "source": [
    "grayImage = cv2.cvtColor(srcImage, cv2.COLOR_BGR2GRAY)  # 灰度变换\n",
    "print(grayImage.shape)\n",
    "cv2.imshow(\"grayimage\", grayImage)\n",
    "k = cv2.waitKey(0)"
   ]
  },
  {
   "cell_type": "markdown",
   "id": "08a23729",
   "metadata": {},
   "source": [
    "### 10.4 加入高斯噪声"
   ]
  },
  {
   "cell_type": "code",
   "execution_count": 24,
   "id": "bc756c45",
   "metadata": {},
   "outputs": [
    {
     "name": "stdout",
     "output_type": "stream",
     "text": [
      "(311, 311)\n"
     ]
    }
   ],
   "source": [
    "image = np.array(grayImage/255, dtype=float)\n",
    "percent = 0.01  # 图像加入噪声比例\n",
    "num = int(percent*image.shape[0]*image.shape[1])\n",
    "\n",
    "for i in range(num):\n",
    "    temp1 = np.random.randint(image.shape[0])\n",
    "    temp2 = np.random.randint(image.shape[1])\n",
    "    \n",
    "    mean = 0\n",
    "    var = 0.04\n",
    "    noise = np.random.normal(mean, var ** 0.5, 1)\n",
    "    image[temp1][temp2] += noise\n",
    "out = image\n",
    "\n",
    "if out.min() < 0:\n",
    "    low_clip = -1.\n",
    "else:\n",
    "    low_clip = 0.\n",
    "\n",
    "out = np.clip(out, low_clip, 1)\n",
    "gasuss_image = np.uint8(out * 255)\n",
    "print(gasuss_image.shape)\n",
    "cv2.imshow(\"gasuss image\", gasuss_image)\n",
    "k = cv2.waitKey(0)"
   ]
  },
  {
   "cell_type": "markdown",
   "id": "8d88e54e",
   "metadata": {},
   "source": [
    "### 10.5 加入泊松噪声"
   ]
  },
  {
   "cell_type": "code",
   "execution_count": 25,
   "id": "ae2df4f6",
   "metadata": {},
   "outputs": [
    {
     "name": "stdout",
     "output_type": "stream",
     "text": [
      "(311, 311)\n"
     ]
    }
   ],
   "source": [
    "image = np.array(grayImage, dtype=float)\n",
    "percent = 0.001  # 图像加入噪声比例\n",
    "num = int(percent*image.shape[0]*image.shape[1])\n",
    "\n",
    "for i in range(num):\n",
    "    temp1 = np.random.randint(image.shape[0])\n",
    "    temp2 = np.random.randint(image.shape[1])\n",
    "    \n",
    "    scale = 150\n",
    "    noise = np.random.poisson(scale, 1)\n",
    "    image[temp1][temp2] += noise\n",
    "    \n",
    "out = image\n",
    "if out.min() < 0:\n",
    "    low_clip = -1.\n",
    "else:\n",
    "    low_clip = 0.\n",
    "\n",
    "out = np.clip(out, low_clip, 255)\n",
    "expon_image = np.uint8(out)\n",
    "print(expon_image.shape)\n",
    "cv2.imshow(\"expon image\", expon_image)\n",
    "k = cv2.waitKey(0)"
   ]
  }
 ],
 "metadata": {
  "kernelspec": {
   "display_name": "Python 3 (ipykernel)",
   "language": "python",
   "name": "python3"
  },
  "language_info": {
   "codemirror_mode": {
    "name": "ipython",
    "version": 3
   },
   "file_extension": ".py",
   "mimetype": "text/x-python",
   "name": "python",
   "nbconvert_exporter": "python",
   "pygments_lexer": "ipython3",
   "version": "3.8.10"
  }
 },
 "nbformat": 4,
 "nbformat_minor": 5
}
